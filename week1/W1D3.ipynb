{
 "cells": [
  {
   "cell_type": "code",
   "execution_count": 1,
   "metadata": {},
   "outputs": [],
   "source": [
    "from hashlib import sha256\n",
    "from time import time\n",
    "import json"
   ]
  },
  {
   "cell_type": "code",
   "execution_count": 2,
   "metadata": {},
   "outputs": [],
   "source": [
    "\n",
    "class Block:\n",
    "    \"\"\"When a block is added to the chain... it contains the index, prev, transaction, and timestamp.\n",
    "    Structure of blocks \n",
    "    \"\"\"\n",
    "    def __init__(self, index, prev, transaction, timestamp=time()):\n",
    "        self.index = index \n",
    "        self.prev = prev\n",
    "        self.transaction= transaction\n",
    "        self.timestamp = timestamp\n",
    "    \n",
    "    \n",
    "    def hashBlcok(self):\n",
    "        \"\"\"hash the block using the __dict__ in sorting the keys\"\"\"\n",
    "        block = json.dumps(self.__dict__, sort_keys=True)\n",
    "        return(sha256(block.encode()).hexdigest())\n"
   ]
  },
  {
   "cell_type": "code",
   "execution_count": 3,
   "metadata": {},
   "outputs": [],
   "source": [
    "firstblock = Block(0, 0,{\"sender\":\"x\"})"
   ]
  },
  {
   "cell_type": "code",
   "execution_count": 4,
   "metadata": {},
   "outputs": [
    {
     "data": {
      "text/plain": [
       "'9468c590b47c972f21e3db62862161a62974e310a6515a6257aa586733fb1530'"
      ]
     },
     "execution_count": 4,
     "metadata": {},
     "output_type": "execute_result"
    }
   ],
   "source": [
    "firstblock.hashBlcok()"
   ]
  },
  {
   "cell_type": "code",
   "execution_count": 5,
   "metadata": {},
   "outputs": [],
   "source": [
    "firstblock.h1 = firstblock.hashBlcok()"
   ]
  },
  {
   "cell_type": "code",
   "execution_count": 6,
   "metadata": {},
   "outputs": [
    {
     "data": {
      "text/plain": [
       "'9468c590b47c972f21e3db62862161a62974e310a6515a6257aa586733fb1530'"
      ]
     },
     "execution_count": 6,
     "metadata": {},
     "output_type": "execute_result"
    }
   ],
   "source": [
    "firstblock.h1"
   ]
  },
  {
   "cell_type": "code",
   "execution_count": 7,
   "metadata": {},
   "outputs": [
    {
     "data": {
      "text/plain": [
       "0"
      ]
     },
     "execution_count": 7,
     "metadata": {},
     "output_type": "execute_result"
    }
   ],
   "source": [
    "firstblock.index"
   ]
  },
  {
   "cell_type": "code",
   "execution_count": 8,
   "metadata": {},
   "outputs": [],
   "source": [
    "secondblock = Block(1, firstblock.h1, \"x\")"
   ]
  },
  {
   "cell_type": "code",
   "execution_count": 9,
   "metadata": {},
   "outputs": [],
   "source": [
    "secondblock.h1 = secondblock.hashBlcok()"
   ]
  },
  {
   "cell_type": "code",
   "execution_count": 10,
   "metadata": {},
   "outputs": [
    {
     "data": {
      "text/plain": [
       "{'index': 0,\n",
       " 'prev': 0,\n",
       " 'transaction': {'sender': 'x'},\n",
       " 'timestamp': 1612346584.7074893,\n",
       " 'h1': '9468c590b47c972f21e3db62862161a62974e310a6515a6257aa586733fb1530'}"
      ]
     },
     "execution_count": 10,
     "metadata": {},
     "output_type": "execute_result"
    }
   ],
   "source": [
    "firstblock.__dict__.copy()"
   ]
  },
  {
   "cell_type": "code",
   "execution_count": 11,
   "metadata": {},
   "outputs": [
    {
     "data": {
      "text/plain": [
       "{'index': 1,\n",
       " 'prev': '9468c590b47c972f21e3db62862161a62974e310a6515a6257aa586733fb1530',\n",
       " 'transaction': 'x',\n",
       " 'timestamp': 1612346584.7074893,\n",
       " 'h1': 'ac2bf7e360f3fcc35bcb6f58fcbe979b41dc5ddb683fee66c5f6c6f14e5d7e6d'}"
      ]
     },
     "execution_count": 11,
     "metadata": {},
     "output_type": "execute_result"
    }
   ],
   "source": [
    "secondblock.__dict__.copy()"
   ]
  },
  {
   "cell_type": "code",
   "execution_count": 12,
   "metadata": {},
   "outputs": [],
   "source": [
    "class Blockchain:\n",
    "    def __init__(self):\n",
    "        self.chain = []\n",
    "        self.unconfirmedTX = []\n",
    "        self.cindex= 0\n",
    "    \n",
    "    def createGenBlcok(self):\n",
    "        genBlock = {\n",
    "            'index': 0,\n",
    "            'prev' : '0',\n",
    "            'transaction' : []\n",
    "        }\n",
    "        \n",
    "        genBlock = Block(genBlock['index'], genBlock['prev'], genBlock['transaction'])\n",
    "        genBlock.hash = genBlock.hashBlcok()\n",
    "        self.chain.append(genBlock)\n",
    "    \n",
    "    \n",
    "    def sendTx(self, sender, receiver, amount):\n",
    "        tx = {\n",
    "            'sender': sender,\n",
    "            'receiver': receiver,\n",
    "            'amount': amount\n",
    "        }\n",
    "        self.unconfirmedTX.append(tx)\n",
    "    \n",
    "    def addBlcok(self, blcok):\n",
    "        prevHash = self.getHashVlaue.hash\n",
    "        blcok.hash = blcok.hashBlcok()\n",
    "        self.chain.append(blcok)\n",
    "        return True\n",
    "    \n",
    "    @property\n",
    "    def getHashVlaue(self):\n",
    "        if len(self.chain) < 1:\n",
    "            return None\n",
    "        return(self.chain[-1])\n",
    "        \n",
    "    def mining(self):\n",
    "        lastBlock = self.getHashVlaue\n",
    "        \n",
    "        blcok = {\n",
    "            'index': lastBlock.index + 1,\n",
    "            'prev': lastBlock.hash,\n",
    "            'transaction': block.unconfirmedTX\n",
    "        }\n",
    "        newBlcok = Block(blcok['index'], blcok['prev'], blcok['transaction'])\n",
    "        self.addBlcok(newBlcok)\n",
    "        "
   ]
  },
  {
   "cell_type": "code",
   "execution_count": 13,
   "metadata": {},
   "outputs": [],
   "source": [
    "block = Blockchain()"
   ]
  },
  {
   "cell_type": "code",
   "execution_count": 14,
   "metadata": {},
   "outputs": [],
   "source": [
    "block.sendTx(\"Abdu\", \"Adam\", 10)"
   ]
  },
  {
   "cell_type": "code",
   "execution_count": 15,
   "metadata": {},
   "outputs": [
    {
     "data": {
      "text/plain": [
       "[{'sender': 'Abdu', 'receiver': 'Adam', 'amount': 10}]"
      ]
     },
     "execution_count": 15,
     "metadata": {},
     "output_type": "execute_result"
    }
   ],
   "source": [
    "block.unconfirmedTX"
   ]
  },
  {
   "cell_type": "code",
   "execution_count": 16,
   "metadata": {},
   "outputs": [
    {
     "data": {
      "text/plain": [
       "{'sender': 'Abdu', 'receiver': 'Adam', 'amount': 10}"
      ]
     },
     "execution_count": 16,
     "metadata": {},
     "output_type": "execute_result"
    }
   ],
   "source": [
    "block.unconfirmedTX[-1]"
   ]
  },
  {
   "cell_type": "code",
   "execution_count": 17,
   "metadata": {},
   "outputs": [],
   "source": [
    "block.createGenBlcok()"
   ]
  },
  {
   "cell_type": "code",
   "execution_count": 18,
   "metadata": {},
   "outputs": [],
   "source": [
    "block.mining()"
   ]
  },
  {
   "cell_type": "code",
   "execution_count": 19,
   "metadata": {},
   "outputs": [
    {
     "name": "stdout",
     "output_type": "stream",
     "text": [
      "0 0 [] 8ff5950b563ade8f679dea594a4894b04f7c88470d20affadbc0dc7f8f01305b\n",
      "1 8ff5950b563ade8f679dea594a4894b04f7c88470d20affadbc0dc7f8f01305b [{'sender': 'Abdu', 'receiver': 'Adam', 'amount': 10}] e867e6a1319ae370d6c7a25adcc099e05de9649a7338771ba0a0e81b9d6f31d1\n"
     ]
    }
   ],
   "source": [
    "for i in block.chain:\n",
    "    print(i.index, i.prev, i.transaction, i.hash)"
   ]
  },
  {
   "cell_type": "code",
   "execution_count": 20,
   "metadata": {},
   "outputs": [],
   "source": [
    "import hashlib"
   ]
  },
  {
   "cell_type": "code",
   "execution_count": 21,
   "metadata": {},
   "outputs": [],
   "source": [
    "def hashString(string):\n",
    "    return hashlib.sha256(string).hexdigest()"
   ]
  },
  {
   "cell_type": "code",
   "execution_count": 22,
   "metadata": {},
   "outputs": [],
   "source": [
    "def target(tx):\n",
    "    guess = (str([t for t in tx ]) + str(nonce)).encode()\n",
    "    targetHash = hashString(guess)\n",
    "    print(targetHash)\n",
    "    return targetHash[0:2] == '00'"
   ]
  },
  {
   "cell_type": "code",
   "execution_count": 23,
   "metadata": {},
   "outputs": [],
   "source": [
    "tx = {('sender', '1M7Jie65R12Z1f8zu5EvSzUnneVnNhmuqN'), ('receiver','17s1fkRehntHvfg2q7MzUZJvsLLyQTJYpp'), ('amount', 4)}"
   ]
  },
  {
   "cell_type": "code",
   "execution_count": 24,
   "metadata": {},
   "outputs": [
    {
     "data": {
      "text/plain": [
       "\"[('sender', '1M7Jie65R12Z1f8zu5EvSzUnneVnNhmuqN'), ('amount', 4), ('receiver', '17s1fkRehntHvfg2q7MzUZJvsLLyQTJYpp')]\""
      ]
     },
     "execution_count": 24,
     "metadata": {},
     "output_type": "execute_result"
    }
   ],
   "source": [
    "str([t for t in tx])"
   ]
  },
  {
   "cell_type": "code",
   "execution_count": 25,
   "metadata": {},
   "outputs": [
    {
     "name": "stdout",
     "output_type": "stream",
     "text": [
      "587ba2dd5a2270abf56afef0e9d40cc667458371239ff183e3b6444488e984cb\n",
      "9a89a4e5e3565da85875abcd06c7defacc91566681b198d07847ec2b4f2c122e\n",
      "998c0befa2833c83ffa17ace408157982f7055254b85ae0d3e88f898528bd6af\n",
      "554695951fc84e58ad54aed41d66b10b4905ec819a62eae66b29ba42f469a4ff\n",
      "9362c300c57389ff20710eac67eab8c1fed3da9d009631a5962b57bb0d930958\n",
      "3c061d84e7e438b61ad756bf6ca4554e62e8cd29423d818df7052d4c2595eefc\n",
      "11294a9bcbf97df3afbda0c82e0c39072b221c73afc100adb0b2747be492a11e\n",
      "e0768c3681075871dc1232063e2f74dcf88ff6819e9114728fd04b1c15afb063\n",
      "53e4f68a90814a0ef7424b5febd8b22aa2773c675980cb78b929f21d40fc1ac9\n",
      "01db6621853458265913fd124e60f712f634e3c884db1f5479abf338d5bdc9bb\n",
      "fa832a75b9c3f96b84da949b1d3b10399ccfd5f6431401412e771293e81bd5df\n",
      "f8636eb5b8bac0e3d30cb5edd90216f162738e14fd9b304b16878c20a4f1e71c\n",
      "4619afc07d25eb84ff7c0ecc5434bc42725f7c2f4f074966bb189b8625e11a1d\n",
      "1fe481c1b1ffa8d4ce342d7c644d826e3b8adf2eab7a1304421328c50807a4eb\n",
      "0eaaa3f49577c0ae5802400d6f7258ddd099a2130af950a9d6f3910218be6bd6\n",
      "c4a85c2b2434d323a3f18f197a8084d2cb8cbc9a8f56d1e48460bd20a87a3d1a\n",
      "29e0b806af423ad65ec5854cd389a9bc032ccc8e39ff42a4b92396a56a4a0c9c\n",
      "7e314736c9baed215da7b36bd4b45895ba98f2a03c125487d37aab7c5bd0c4b5\n",
      "fbfc1826f4894f9b4d808aa63cd49a5ff0643e4d1ba5b454fd2be5d237f55922\n",
      "68cb0ec402f9cb83da0d047ab40d856ef02a50862ad247b2e874441c9955f4b1\n",
      "32ac59391d2f5813f6c5a4b64d6e5b76b55b1c6052c4bf8d608fc15a9ec178fa\n",
      "113493d3c32b4f9077ad0140ecfd81b804c8e98925a1ff850f868311abb4caf7\n",
      "8d8f3d662875602e2566f32debd64514ab0fac3b67655f55c462281c4472dc58\n",
      "c339cac671bc33f40ad6f0e16c20c21bb1562bcc89c171c1b26c79b3ab72759a\n",
      "eebf81ba42c28cc0315e78bea04b1b477fb9b99ce17dacdf290a4a60516c7b6b\n",
      "967b70f5e3ef683811a1445ebbd31b64ad16e28c52b2f4c9ca8d14ceb5c8a403\n",
      "889137f6e5cf3b48b437d5a11be067a811869eaf8acf219c7a9b8f9364baedbf\n",
      "a4833f0633e61c732512a43b926432fad3a62adf33fe6fbb861ec8cacdb47f93\n",
      "b7f7f90f51f0d495bbfc17dcafb74710b723b296e090920115138b19d902c3b8\n",
      "e23b63b260ac02fc43ab23fdd0b37d144e47d8a22554c79f4e10e00d6aba7c5f\n",
      "0ddd1ea17d5fc51a9beb92bdd29fd537dd5b516f290a5c9f1110d608248ae996\n",
      "9f4ec1216333e6e88251d8a1511e6964e1af93d8b1976a5f1bad124247a4c75e\n",
      "bece8b0b8f64cda1722131ffc0c0b83d961029fa2c3a16fc78ade20daa152866\n",
      "28cc5d2f33aca0d3159fc7a020a1b40349357e86a6eb01f2888b6a7017252cfe\n",
      "c967f637a86cbbc95cadfd394c3aca1431dd4f19165d5a5717e9933662c27a3b\n",
      "81fcbadde9dde7ac3da16822bfd765c60ad991356907f79d3f7add7c40db4ce1\n",
      "d5865e0d064308a1ca88d3400bd187b3654199c28c84d0c2e29dffdbec7af511\n",
      "355f480ff7e941f155d17dbffa942aba44ce0d583d911f682be9ca77bb1191e7\n",
      "9cc7e7e37ae7a4156b58a2374930e3db4c1227e9d79eaaedb3bcd9bb88ac434f\n",
      "cd94455d4a497517add466b85db27c3dfbb2fbdfee9825100cc4b833544ab3a1\n",
      "fda62a6dc7fc1c299cf0afbf52c5fa8be92cdd635ad2bd87cc38fd78d9d40078\n",
      "7dabb76afbcd9c58418f89c3679e744f40cb67e9829fd3d9bffc9ca91ba9572e\n",
      "d0e94caa01eda24eb0fcbd3a1caf4a2715b69c3f3f21439821bdb456b5022277\n",
      "27ec9676151f51f6fab90181ae243f4093eca9211e0c1762cac87af96ef314f8\n",
      "92e1c433a710cd0842fa2d8c527a014914dd8f80b8af4a8838b4b180feaa1927\n",
      "d198c39eb9669e0c3d70e89ab508160049bdac646bbfbf3475c286b2868ff2d7\n",
      "757ff6092d8de12764df0bd6f9cd14c6e6db53f40af04231092f6ff0f8960454\n",
      "e74c72f6542fedea9086b5c43d7a9aea4090bd4be04220d46934b57aacc02f7a\n",
      "235408c53638fc29e498fc48be7a7fb7668a08f7c66a26d2143f1feb07d8068e\n",
      "3d59037f477efb42eb09733572decfe7048a7fd79c17eaf3b4643c6515e67530\n",
      "90cee1931ae318580e6cc231b00574366362e2501f4a77a44d8540792eb89bab\n",
      "1461f80d59a0a7f8731dd99f65c89bd835be6105d0afa3e926b7d65cbac6c758\n",
      "b048c508ff0b8aef8aff7f17d594ad06c2ddb54c372a329e53493df8dda51c75\n",
      "fae1801832f21d6ba1e5ea19466b410698d200590d40707d6bf7a2f689ed8c04\n",
      "ea1348059dfab2397029021287212762559188a6207c8a1a17f0e326d45b07e4\n",
      "53697bf1ed4495c458de53bbcc151de0f611d6a06373259916fa85d1dbadb920\n",
      "63edff0297811056608148f18b04225df12a59904d37ab7578a6ba6345cb3688\n",
      "7c928f899538d37e9e7e462d5059b7d46afa130a4ddfdf5c95fe96b85e0a97fe\n",
      "a20a132c20e293e0429bfc5a177c71cae63d30bd3c89dafb821dbfb21c27ca16\n",
      "efb52e2f24f987ea050f0e53a005fead1a08af4b3db7d675af41aa432e05a1a6\n",
      "68d7c8502af7687ee74bcc5c95805fbac061cce619d2b3a55daaa6ac81152269\n",
      "387499ce0661aa7826a638e46ae1bf4c47af4a92bd1c19f2891b3f418db93854\n",
      "1660bc0cff10f52f58a5ff696602cf58298d50d14271ee1e8196f37622a2fcfb\n",
      "52395140508b32e3603e0e1e85f4788895ab4327b48287cbe9f8766825882740\n",
      "19446025bb4bb2001c43c081c0b7c9199e6001bfdd9763bd5d4a0b1a55609e7c\n",
      "ad6593de6a09765953722b5d9c052fecbf22f84957cd22aae9769ece02b7250e\n",
      "7ae52cf9054e010a57e615d2f0b05f8e9d3450e93718309cd6e90419b20b6f48\n",
      "b07995d6986b038612e68ed430bb9a35f480ce3d367cae4196501f5f7ee7bfae\n",
      "b2918ab87697ce0ede3bae2daaf5edb5b7d7fbf23813f1711676c319a8e8c6f2\n",
      "2b136d788b0b7afc625eb0430c57b24f57b37b5d012c424bab348af15514fb25\n",
      "1e2513fdef681d0e2ede279821dfee882ee0317351baa8b31afd93bd8208809f\n",
      "a79da5d3ceef5ccf7804df7f874f2cbbc94e84b2d90b59e92c72172f8073207d\n",
      "5f19f83674087ecda7f5705d461876f4fb2c81789cc148b5eb5422e674f8e81c\n",
      "8ef373dc4bdf290651f458f6e0b3160546f0af874e7ef5740a00fd046dac3239\n",
      "05d8e37084f8a6190f255b63f58ddf97f1247983435392f975d131c0ee70b575\n",
      "ac77b99f8004daec7194bc915e3c259199bd5fbfa14c5dc35db5bebb6cfa0c79\n",
      "b9b8bc412c4d9770335f6caf86b90166ddd03b9b8cf9b157e1edf28f2e25df8f\n",
      "376acee4b81bfbbcf1cfcb4f5bbb4c0f486f2480434d312e5b3ad84814af922c\n",
      "88ac08e04895c34d2036abe88a612faa517a46c79d197a3be862713a7d23d246\n",
      "f09d9e5d4a455dfbe502ce831904abcac76065ea06d730d3d1fcea8eda86b5c2\n",
      "7faea0869a1009b631dbeeeb95476fe096a36b429103a69f25006c447eed1fe5\n",
      "0151f3350d61e28cf00202dc0d8a757a5e06e89e146185987e70d16dd35ae8ae\n",
      "265853d662135c1c68dd903dba7ef2862f246df7ca9510e3bdf12dd6a6362fde\n",
      "41add5ddb4e364b7ca5be340c3e043994df4954d93e29adef17f2294f32bd8e1\n",
      "2d8798276c6fe70e7bd2185d3fbd21205df914e5885f3fd4c23e4dfbaba489db\n",
      "aec42c9e6042fb77007add5ca7216ee4837687fcf2648d34dfecb8e1ee7aa140\n",
      "468222e4fd22ff698c23b1bfc28333477290e35b0f64ab5eac902fd057805607\n",
      "93e45ea8d263c6014f1971b28b6b44c3275d7df6830d4bab1e1c35dd3ccf537f\n",
      "b76f6dd146b48f26997e40c5b3eed38aa271796185c1d29c3d95b99fa4230044\n",
      "5934caac6060e31fbb5bb0f4fd88bb91e580cc6224b298b9ee697775355504f9\n",
      "ab8e207b4f5e83c368bfdd7de4d87ad64e5de4d680a3c180508549f4f4fe0a1d\n",
      "344ee1d3af1f445f08e69e55b948bc386dc5faf2144557a94c540e9acd45958b\n",
      "37cc94845710bdf0745b394d6e080d36f943c67491f72a9419e305e68817374b\n",
      "a10b3273d65358790a5b98fa40bab8dcc1b5d90c49d153d92c97a30b4deea9f3\n",
      "6666441c5db6d0b438da363c6a7d9ca1b12c98b6ee3fe9137f276006b1acd028\n",
      "1b7866bd88651405dc241315b7d9bd1c230b9eace1de5aa3a6deeec22d7c728d\n",
      "86e91ccfa6fb4f0387762bf88bee2069e07f65e8c2b50a0e30f91c1dd3732e31\n",
      "1ef2aa1a3f848648b166819c7a6d0e93c7e752dcc1149bcec553c8aaababb0d5\n",
      "4a3bb336b5e9aa6f1da4846032c93bfdecc47f7e3feb8f83321af9326efa4bd2\n",
      "65bc0a7416757565604048b680662dfd8515c183962fc6b9f4445efadd6c0342\n",
      "636844768a8e20f7cd291054b7bbad8f6b25cf910efeb5b2a52d959aaf663d0a\n",
      "a65613a07ca7bf6e10bf74e405429d31926fabe525d6d8e4c5127eee977655f5\n",
      "a8b54c360e011079360b43bc4386bdbca873833a010852236e6482492abc11c3\n",
      "ffcd5fcbe4a668fbbb221613b56b6090b6327defe0a1f5a4139c927955d9f48c\n",
      "ef16c3cb35c539906a86570fcc3c8b05aac3a12f44c4c2be79190c4b5e62afa1\n",
      "820bd466d5332099eb80ec4a6857bd767c392c88007daf9eda9212520a92ea3d\n",
      "952f9de48fa90b01f1772b87c72429f5193971987358d425bff3adbf2ef45c27\n",
      "82a9c11ce06d54964389ed529648af2c44dccd3e054ad572b8a3d503ecfcde53\n",
      "4acb774c5fdeb100f8dbaefa3116e0b0ae6d673e66ef4ac38fe0d77803019817\n",
      "dc6488c082091ca6915f14647591209e86871a3ffb17a3ac9a5fd81bb1ecbe50\n",
      "ce716b5fa4eed114df1b4fc85ba13bb88e9e0aba479907a39fd12fd8d2bf5a92\n",
      "e5858587f57f067d317213f9fd07be6996cd26a8c87d99f0286b28f087c551a9\n",
      "06111d54c0b9db8c516b87272f65cad2128495d905fde6e951211cc3a5b0ccca\n",
      "500de75143cb2fdf45a17cb6816ff533ff423cd206fe9139edf0eebe626931ad\n",
      "c5d109bc07a059e7e73fd8a955e88e1a764fc0485f0a7b67d9893a4a6b2fc93e\n",
      "d910d38151acc983e9446134c1446ac36103321516d1c7aa1ed8cc268b77988b\n",
      "d5f97402efce5e0385df03663abdd73e8dd61dfbc5a137816b59817ed88911f7\n",
      "2a3172e7ee04763b166a4a36e6a6ff572e93140d6f805451019ff78f137b3033\n",
      "675433196f5e6db5613964ed08207f3a8dec0ebd8ece1fc11384718983562b2f\n",
      "642f6f60da7e7e52b6fbc7861dc4ea253515c1c1e87899f5210fc0b3d9cfe990\n",
      "cfe3f038a8a6ad70118a918f4dc68547f46e39a7aedcf2f20530be89f664a17e\n",
      "b2e300973236ab139921b84c60b34d6a939f78adea0a1ce1518967589ca70dd1\n",
      "ccd560f10eb56a083c4b2e9597872cf6ab3ec125941bdf7477fca5fbfc864526\n",
      "e4f1438881f63cea1d6765e89830c22fb85df9c4cf4fe97bcdf6672f8eed2c64\n",
      "7f84812d19d8ac246d513eba80cfeecc1cb5b8373994108cd08776b1f8a1a6e1\n",
      "067b8d4325045a2aea497e4abebd3848599e5a66031949f44be48b8351f49faa\n",
      "ee44d477d2d2cf97d39305f909280fc46ec40ad4c3ebb9cac221469a23952ec0\n",
      "a094afdbbca7c592503e66221dd49e96226e331b86bf92df4d8f566ebff7b047\n",
      "fc6076ebad30ffe4b616d1afc8322712bcee47354ac743d7270376262711c028\n",
      "0a4255d27ebe42b4f2ba57bae2fb3fe4d761ad12df822fc4bac8be4a7b87871e\n",
      "a852381c267a65bbfd041173b1052dd675a2b68913ce3f3efc7f9ff8ca6769ab\n",
      "7c1ae36930b4c2125458a48bcfba2bd655af249443004c77fb0d98b7431cf97d\n",
      "1e8ab69405d53bba7f2814a37c544b77adab2707d09ae2950253774c74214da8\n",
      "b1c4f3ae97129c4996ffb770cbc1223875426cc6783cf614c8722033790fb920\n",
      "5f4c858f77adf76ab3b21223dfa78bfbc84903a0f8939394f1c6ce5e8cd7e57c\n",
      "1e1e19955e895c4117d40458172c3a86714d46cd76d7f25aa90202dfbee95523\n",
      "b9c385afc3ca1b739074777dc893cd4ff229e2da44ee74d6dda61742c7b3dc1b\n",
      "20e0cea89977ab951d60f3e495d40635cd0a3fe048608f20da17ef6c12276706\n",
      "acf05f9c788403cb639ef6c234543d9054adbca33136216ad8bf59e4981cc162\n",
      "a1c2c1037073bfdd6f16b0caa5c4b801af947b1f9161fc7a81fe1f501b2f82d9\n",
      "4866f8d3db474537ad4cd37f1514ed09442f1bc03d27e940004eeff185cf5f3a\n",
      "85ff62b3b553059a7684dd2e75930a415affd6cabfa5f4da63fe3648941211c7\n",
      "c1e90b0038409726a40952f7df306759b381eb06e418b3655be279cc4d050d03\n",
      "955505ec505184d5943ae5ff7b590a7cb2e301fcddca0799e079d1bcfa2b4f24\n",
      "31c86673acaad57712fbf02540f0f6779e36cae58336ac0519cf1d00cb07e9d7\n",
      "95b52d7d592a67c4ec0ad5e65bdfb650caf3d1fb381662a5e3c22cf8150f67a0\n",
      "633fc523d7c06e8051bf212d7ffd2da6532675d5f6c58eb97e7522df7fcc3913\n",
      "0558767c82dfc6b258d414e6d096d8d3f8b52eb1f48d6b2317736c29c2b903be\n",
      "d8ce4c9cd4356a78eb4a42b464dfc45a18b9116985ef05616d3840ae7ec0b809\n",
      "0d79801dbe472b405f5635c945a9291bdc8f65453327125bdc07d3a01d4cfbcb\n",
      "4b254bd71e18e9e84e573fada85048a6c1b7db1724a2c8a03c8d67aef6bc2fdd\n",
      "5ac6a4c2a93f1163aa510e797050113047033a65b7b22f5610b35638316add18\n",
      "b70925f915bacad4cab14ff9f13acc2ed26f43409439579257c18db7181f0347\n",
      "befc4241f4236724593637c8a7b1c5f9768245c8a6a66534b1294310fdb012a9\n",
      "7ac70a329fbcef30ec1038af972222e9f18eb07dbfdb91b5d615d1b7849d75f8\n",
      "be908e9954a1ab115c4889ea58b7d5e241f179d5c32e50a4b310f6b864194e2c\n",
      "a61e82a97743c1473128f3af0a683c0f52b1aadbf8887ea9da5c1db897efe6e6\n",
      "4caddefa88a24f3d77795ddab180f2ff7e4f5c0934886e47125bf20960b124d5\n",
      "0603aa17c3d5034d038932d0b528122eab30403bc927a6bd54116b685bc8f039\n",
      "b807da6f118d5cc27a6bd410ba76153c81317ec1ca0b5de806cc721aa2293305\n",
      "2399461ace0d232cf41546affd546eece33a15e1728b62503c9421c644cc426d\n",
      "ad8be2ccc9f7738c4ef66610872c48b6c31a97d0909659e78e04137bfa024f0e\n",
      "f078e85fcd55cf1416ee0bf2c13f3972ecabf749cdb81515ae4598bd2c831dec\n",
      "6506e5d5c354b84211e3a100d5b20a248e75bbe3175495027dc2b98cfb99a8f5\n",
      "d2370dc234842f32c66cb3e3d8216b09bd5ee331fb2f52efba6970c7c2398a67\n",
      "b61be93454171c4749e54ffbb6c287e93631301c3223dbf57d054c2dd523f63f\n",
      "e8284846601b8103312588a6006365d7192c899fbe5047fdd33e56204c8a2ce2\n",
      "83cab5449ab1ebadacfdf5c2788fe44a70db91038a421f232653e287461ab048\n",
      "bc6eb1347497af754262ac9698ba686ca701ac0734cabb027b1234a8fb78c6f5\n",
      "41936315b447d1116fb0912cbe46679650d3c9ad8379b76a08fae96abe2f1b7b\n",
      "3d2eac99e76d6572bfa326785bb1feef66f204b86e2dda1750c56c141196836e\n",
      "e44a5001399746349ad8d840aba1f739e9ed53cae1f5cf90cf68579d5bd0ed34\n",
      "4ffad4ceedcc18e9f92f0197f9cc768ff8071cea875a7bcdc6b4e16cd833d144\n",
      "7abdad2bc45637d0791e8d45f3ff9e921a1b6372e7d69fcb768482845e2783ed\n",
      "1bcb133ceedbe72ee48b22e95ad9fc064ddd22c9ad91fde8f5ee16db1761bb14\n",
      "734ed44d8036d8bba8ae3fb66a3445efcb45052c008cbf5b238f2080837fadc1\n",
      "ba9028d7084dcf102ea887e613e676a97ae2acf1ca18c6dc1c014d56532cb1d1\n",
      "96082f1c72ad60fd236fddd50a3e8ce24f209c0c78b73d7e26dec91c88019f6a\n",
      "6ff2ab3c97d8a589aca34a69873a3ae911b0f8aafcafbec3022e9161701b5ae0\n",
      "43fdf901be64e479f68fa94f6f0eac33f2b02de8ef80d1e4372423ec944c1505\n",
      "7edb675308b5727c63ddc6f7a5ab8d50da5573db686b2654cffd0534474e78cf\n",
      "4fe70dcde830b785da2fd8469c5fce8d16dca5becea7df87425c16d212a8b680\n",
      "abd4a8b4b1d4c7c80a393fdc51ea469cbe2eb89f8065896b6152c7938f72c27b\n",
      "e5cfc103e8d472f4fa91336cdb83beade7973d4ee8bde391b6653052d37f66c3\n",
      "3834b6eb3297fc89051285d19163e2890ab40666d909b9a89f7579b96dbfb645\n",
      "1f467289ad5d51801c05a06a1b3a4a6833ebe6df5dbee9923652e5a810fe69b5\n",
      "4d786747c59878f96005970bc0a5010770fd592bf709cc100f7eb79a15221ae2\n",
      "bfca34d0aae13eb820fc600fc74d213d53c598a0738b606e08cf194296db4d67\n",
      "d6f7334d9bc33d756b03b3a33b89a415c2299c10de48b301e3804b0aef90b88c\n",
      "150c6e11272b14593dba3af6ebb50d7c3e5854dee6a36c5e10c623f9cb362e7d\n",
      "b081d111a394c48cf0fe918154e087ed384c9a39b55ee2169b9f743a34c9b9f3\n",
      "b9804465944a131faa42a3ea2b42a70564ed57ca23bb898f35d036bb81b5e3e7\n",
      "4236d9cb6151a6298a5731e9b62b795f50e1d82ba71868f32982248dfd569c84\n",
      "18dc628841c5f41f5a24036819faed3f912c21ac9e3e3bb41f1766ddb852e600\n",
      "fea6b6c0817024e0818eab30fcf47687592b8a25e9c0f20c51e61cc4adeb7974\n",
      "81057157f2a3815a98372edbda09300e839100e2a318a93567d41eb464adc587\n",
      "22b69e82b591321df3cd20f2b9d3d74dd9676fd31ced91078e9deb975bea9069\n",
      "4f1ae8669a5816a93488991a05fdf8d8c5c67d701aafdd307c2cd9d91056b366\n",
      "32be65884538ae0b0c1eeb822884e8834a43fef2e0a2395cb5076f1fb2721208\n",
      "0d5b667a9994264e7da9c0e9676000e3f3a00ae1e902d4f365b5094a41a2d9ab\n",
      "d1b772292ce76b7523a9143609e7e71c72ec66786906e858417e50b61d74ab9f\n",
      "8b0e6035ac79d597e4c13e33ff59018a2c3c678b7062e014189fdd4d2e696ebf\n",
      "2b2a41df48dc8d182d79fe4d1d68b6b8a9a252020d7dbe77f99e715cabbb3980\n",
      "06ed31bfdf4262df77aa24706e6a7f83c05fb8190f15db8ed46bf85d49efc6c6\n",
      "a043884b2d2648893f00ac78281693fba5de464729d394616e5108b147fae5a4\n",
      "af6b2343b23deadea85cf6a1769cd446100cefc9fd13dc4e85e07764ca7deefc\n",
      "3dc139a6463a4878282eaed59ad94644a7dc3d385e4a0f9ce693272fc7c1f67a\n",
      "57e48afd3538d1db88bddf9fdb563d0c8b5c0c05c6d613f445033d59fcb3867e\n",
      "ff3ea7bf50683be25b00e527a05003534f23421ed6832b4f48591b73c0765db4\n",
      "c3035843efcda443255be5a1232f38386ac60ce9c4e68b810d83773d8e9d41b0\n",
      "0329715d637cfbd7c28664e36f82584918680f50ba3795f91c5692c1c0b019fe\n",
      "8abbf64308e0bf6478ce8875de324562a612cadf513a99a562736d518ca4f385\n",
      "3acea3a8226c62940b18157b9dd2f33d1741386a110b3ae0b2dfaf5539feba85\n",
      "3900e19f8f5422cb3af736d056f9238cd1b022c52b8b080fb105bb36b01b9bfb\n",
      "9f0712cbe566583a4cc06697c000a64448ffea2ca52a7c69d50314a2c8dcf7a1\n",
      "5a06e40d346873467a09becabefc3b777ad5c139f50d6215ccfefcd5593cb059\n",
      "dc4634de2955537d1264bfd0a71f05de72f8f12c60bc32c84215518f5a9abec4\n",
      "025d82a57a83649dfa1c4601dea68e3f3971fc983e6b7e875efe494fe476f241\n",
      "11e7de07d4762c9fb5f0b76827109d6e1b8751a8818685d40c613ef1d2ff8d86\n",
      "e9b7aec2ab8555add2d421916fc9f4efaf78b7f5baedac1f33e69afb7ef8e6fd\n",
      "d60db809a5f5d36a9d8a5e6adc5896e41d9cde7dda661998ae5d142d17f2cac1\n",
      "539729b4e65cb17ce8590abd52f42fa2f1107bec79bbc78e739fb842e84fa95a\n",
      "9341c17d5229493b45e5ae6f27e41c58db3761dd288ad9076cc7f4ba57b4146b\n",
      "cb7a7709c8f7e9f77cc8a6c9842b25a3e37af987158b844925d405dc90ba7e49\n",
      "fc429160c529a26fef3e8ad2a5fbac7c9f93a423fb971e7e8b63d0ea061c961d\n",
      "a659f9a342e17c9d7b3860ecf8fce43486cfc36e071009f8ae77ece533ead905\n",
      "ff3350bfec3b7e4744c049accc7eb659c7dac5c2191f0eaeaca406d200e3ddec\n",
      "3190f2ebc9b08762cf99efe1aea98186d1844a16b52ad3f7d2cb1795a872b33d\n",
      "c2823e053bf5e1c0f71f844604da5495fe6aa47348efd3b3872d3a148472fc47\n",
      "d19cb0982efd52ef91883d504098aa3ee7118fda376511dff38f1d8d1f888d1e\n",
      "92eba5b3e8bb5a0f61082e67a59312a9b99ea222072b14c7f43500d08d49e1ff\n",
      "e2f83381ffda8ee232847fef9d022d421963cb092d3bd2d57a500dd3670f001e\n",
      "a5aada79b4e0b8a42f7d545508a859799f886627ab2ea416cc52c15010d742ad\n",
      "aa6a2ae2c4684c4f44fe7641d2b82d42951273a069d7da5ea08d446cc09f5323\n",
      "2090169ea459f390f4abfdfc7967d3aac1d812d526ef73e6f03e5b26884eb01e\n",
      "0928d7690709fbbad6aef53c93c6b8886d938214daedf27bccfc525612576ffe\n",
      "374251b6f0ea8cd4d27710d47fc92d8f99ef52aa1839a9161791ea0569cc00e7\n",
      "c06d5a1a2af17543938355a0221a957581a1dc117ebcdff647a92d323480065e\n",
      "b1886920367b39773bfb851e1a48c6fabad21082be2d3161a077a31d268af335\n",
      "2ddef239d66ff7ece2762fbeb7d63a1c688113999667a2708c3bca53b2596ed3\n",
      "72254d6665cdd583b386b60d3440a8fd6f2d0630acb05338d39b190282a187ca\n",
      "c799af9e7af97ca24a0926f13d36fc5f0c143ef062d372746e49516b3c9c9ad3\n",
      "f39fb4cef120c568126847254add7628bee069bfc45584ca2171dca53b50acbc\n",
      "e3121f262877968e8ea0584eb620b971938d2996950f3f034e07e5b4e168ec03\n",
      "055fff271f9ec16ea1de39004b7997c55a2a2611a643591ec083b1b7b9546491\n",
      "3b448f904d00207d05c27b1922cdcdf752b84885a41addbe9e99630a10e4f88f\n",
      "f98c54c339faf90b67d41a77d5be579a61694e512e88b9c10160cfaa62ef2a3a\n",
      "d32040f0da0e92c7ffb2a44e64b4608bbae9db01a606df78d88e9be6d57bed61\n",
      "23eb20c3dbace4954ef96786854f5939685e5bb4fb0bdb622e660f947a7ec144\n",
      "3034a8d7cf886292e1d9f9267781f0bade7bcf3eeb22ecad1fe4ce78fcf86c1d\n",
      "7c67b6389d9a0ae462083d861b74ad654e0f0e54bfa1db989eb9669c8b9ad1ac\n",
      "ea290bdea1d8e0085abe0384b6b057785d769d1fde71de6297b35f65b6e5e1f3\n",
      "56a6b94ff2befed4024f94fdadefc002ceb38ba87c9ee4c1e0645c1648ca1924\n",
      "0c06198e5b4e4fd215122fbcae2591dc342022541655f608f8b217598e1621b9\n",
      "bd970a63026f8fe1c9da92459c33b0c86eee0275a7e3876f4aedb9332bbe6320\n",
      "196ca9877e83eac05ce3dd16ddf6b1b68e38989317c719f63bb4de85d6360793\n",
      "ba6d3e97f8962e9d8985f28ad4459934e68f5c4fb55ef1c5d40e2711d7394b58\n",
      "04d0517298d0ec77eeef65413512fc2975892eb81184bf530346aea608f40f55\n",
      "97cc0d531803195a460264ecab1312ebb54fa1a17e667e427f3fe4cfa9c5f817\n",
      "2b1e9710dc7dd1c4944fdcafb56a5a5c14d47e12b68c23fcee989272ea724642\n",
      "9c9d012c07e3f40796cba37c7d35506976c33d2dde6a21a4f945042d9f00e77f\n",
      "c2e5d19df4bc435918d75ef7fdc26ebd882cd531436178eac9b3d0646606855b\n",
      "983e34341f9aded0694996db629b19d5a39f59b74b2909370fedd2cae5675ed9\n",
      "92c9be0dde9c3e1e59b73b364803b6de079740824c880d9b79a4449ed53e3a56\n",
      "377f9cff61e3c44094635d4692e7d34f36cbad99e70183591072c4ee3cda554b\n",
      "376ba0be4d904ad3e8605fd967c1ddc2fa1df52cd66b58958b464c3f801adaa0\n",
      "d8e8461e34e398f62c31049236bb62f137a92ab963a54e87e5d24e70d29d20c7\n",
      "0cd32eb34285d88ee174bf38491c94f09fa3366aa3f8864899a183818bad837b\n",
      "d48804445d01508252579b58995f073d240a275f349ebe2d9641406310886f99\n",
      "1b6a953601c0dd4639e8f68f3c65fdbee16059eaf413dcba162ac070ea014f73\n",
      "4dbf4250d3855f5fc6b3d18d577ba4d005758e23f464654fc47b055d53a0352c\n",
      "4b1a3e564cde5f49eb76df953dce433445843832ec601b1fe2af1a5d6c319de6\n",
      "cc5ee7c46f7c8d403f7425d14e0448b906ed91baa5dec19930625f5547d92dbd\n",
      "de03579081d7a2ea451a21550616d7e581d222f215bc1a046d0cce9242d8be2b\n",
      "e2a9a090ee4f10527e645e74258d5c3642b9e8313a135da0838b04ccd7c561b0\n",
      "c545d7ce19acbac0936051997f26e29842e2aef3f2046458cbde550e9e30d3a6\n",
      "7771cf67c5f94daf89f2b6569d9dec9eb84be018089ceb2a687704f5a190f8d1\n",
      "6bbfdcd1abbae9d810c5116b7025a6dea73d4ed5625adcf00f36dbcb3ccbcff2\n",
      "408d63b6b8ea31f8a848f16625f39c050f6689b06aa6a76b0c65c590b2435b53\n",
      "33a5cc2a7536898a4ffad0a3590ceee2811d51b12d0eee34b80f5cc38d49f523\n",
      "18898ba7dd194cf7d3f0b47120587d09f7aa1ba92865e5a0bbe304d91092d5df\n",
      "57d577a5ff52d883e492fe4874cee22a47fe553f78c5c33d28f44fbbd44c44d4\n",
      "934ad5567d2300e4f7756d660cb3126ebf1a9cfa9edac1ae5fc099e6b28fdc5f\n",
      "1c117159ece9cfc28dd763fe85a2be7e254c7173f8a3f3c8a88c1d9467c2cd91\n",
      "327e4a7dfd004ff1c2242a0c14ae6f2b013d51ce0a6331e9778d4cd171f652d0\n",
      "68cb4f83bd6be3da796f54b08a139c564b13dc05c449a757b2f638a1eccea93b\n",
      "c3c5d3db92e339f08cb28a561e975614ae257f98d116932555c948d3623f65b8\n",
      "92edc729ed5330bf01f4de113ec3cca64ad72857f9f636aaaa33504d545e27a7\n",
      "f1eab359ef10c1b5b270c6bb04da0f9eb8b7d37cac1b116bb2b32bb4a2d28757\n",
      "904de679b57431b9db8cad94df47019b514ff241a5cba65f04d5fbf577a63067\n",
      "3290a8ab3b33415bb88084eabfd652f4590297dba7aff7613edb6fedf162ece1\n",
      "d38ee74515eb396539f739870527075dba59cba4afdf857ee67901711e61603b\n",
      "f0bd6c6d8256904d31806c653d82de1c3c9c4c1f226f78cdcc07704da999b5b5\n",
      "23119f1123aa6912fd6d6fb587b2318f13211af2b3c54c05816d6c0a4ad76364\n",
      "68975cf3e0395b02dc8763b9ce1ead0dcfa99761c60a920496834c89494a5dcd\n",
      "bfbd041876d693872fa5ac79273698c719a7432646d766e5e3b13e1d22065cef\n",
      "b7a6561c5492ebb114d8b8d3b2d01e6d304644b9234048fb01dfaf3eb0657a19\n",
      "aa94af659f91c2c1997d7a12f0a747d906d90a04fd81da31e8f4d86fa5605e68\n",
      "781d91f3518faf9f5262f35d2bc12d635d3f3b1521f153b78f961b19e74bc1b4\n",
      "bece0bead84e238286b8445189c8d2ebae3953634d88bb0ea1c9c058e79144b8\n",
      "54c339950527b8a26220f07dfb7d9890bcfab6abd7b1151fce8a68f6fe4fee0c\n",
      "a45ac0c10e955d3f32e3850d3217a8c130449033bfc1f596dcf2dc4588673d9f\n",
      "a600efcd55956b06947c162428b71b143e0383a0bf38732fba3ba5b67cde11f6\n",
      "36b4f0b9bbdb77dff035ede30995660e32c8f3a8e0b3f88f37016aa4459fbc7d\n",
      "8ae0e3201cb773073f2f3df6ee74b93f133b932b98c3c68eea1186e5b121b4c7\n",
      "d78f4ad9e32fbbcf29bf603f0561ed03e7697dfd944d06f809bb30381f8ecbb9\n",
      "5bf4948830896f3e6da07e57685ba3a5ecf4fc03c6c986eae3d846ec916a2b3e\n",
      "4ce283dc59da95fe3ed5510ca50911891a8ded200b7ec3533a47cd7a67611054\n",
      "8c31ecc52746db2678cbfe186c9faefa4710071d432aedb8db49d8749a263f63\n",
      "ab046b4fe6e64092232aee7d4d41911f7a53200285cdde3800d68aaff03682da\n",
      "2a8645d1ddf6e49e912c183cf3870092f207f0104e0ed92e425b1b39e708c813\n",
      "96875a17d9a4072666cbfb6b94dec0b4d13bfb6ab2a0f8c51e8299c238bcfc6b\n",
      "244add1534310bd8425bb7f977611297e1a3246239fb0f20abecbc992772df21\n",
      "e9c149066393f2c3d9b1007c5cc3c72068f5ce85f67adbc65d36bc0753e86e39\n",
      "98aad0052b9bdf3d286fdc7f5103820c3b0340dbb0db623ed7a7653085b02bd0\n",
      "3fe548909f632746bf486e01801844f3a212057c43739798e1321d372ea2bd34\n",
      "89573603543c3e596a3ba1524694552076149066d613afa2cacdfa1de5eaf39b\n",
      "b4db54be617ce51753b57f3766d91b36e59cba4de043e65f42b46bee3eb68109\n",
      "9acff541463a42edbabba2f66eca1cbad3d8c94ceca565080ed285d155c59fa7\n",
      "afb9315efa5c178373d970e81cd8fd668488ef7c43a80df751e2fadcd176b478\n",
      "059b6c6677bee87ba0e3530fadb678b9ab8be8152f438ff5b66b1d98c57cd42a\n",
      "266bb8e6b433c88989953da3fbcf7f4464600c80d35f2089d073921efba6e5bb\n",
      "1b3a611a0cf6baea4a7b5a899247473550d3c0af11023d9cab12eda9b3e87f1e\n",
      "a962317adb20067b3dc5ae87808f5caee69f56d41df8e693df26dfd6540e5de1\n",
      "671967fdb46db703dd7d3fc623cf90d618f99d50dabb6c6d5783190c7457d39c\n",
      "ba550ab87eec0cf2aeb037935afae4e768b3100db910d5d7952addb2da8c350a\n",
      "32d191aa5ee9618dfea50883d5304977bf50c14e281a5332cf99b7cfd53780ff\n",
      "6ee2e0fcb8c0d6860716af04feec68cb5f70e75e2925da4672aa254b1b0e57b5\n",
      "cd5eb4419b487d24d3594a545f928beec43c9e3ec24ac7df4c7c7d7187e46340\n",
      "fb811c4baa7ca7142f57951cb8217d55451eb6ff4e7b06a7e2e9edce361d5b73\n",
      "c63591bffb5d8234750ddeefb85614100f308cdace0dc2120ebb5cd854c62f39\n",
      "0c9b0774b78e3cfc784d28e05fd110d9e0115b537f424ea8e252852c1e412c80\n",
      "a33be7d2f86b56cda2e686aa89344d7bcdfeb5de692fe2ee68254797fd497467\n",
      "2a78b6d4dc389925863f037b7f58857d719b1acea7b056f3efaccbb9af0e3d49\n",
      "d0fc1d5594a70b62ab8327b75b7757d63440dad6d0a9c7a40e52bbc77bfe6654\n",
      "647e604371312e8a0b803196f2970407db5907381c5790609d9a0fa0ddf50e27\n",
      "6ea775224e5257d7bd2d015b0726bed480914bfb206ed865da45ecce9b0e02b2\n",
      "91d4dd81c16270a9e1cdb10cd8564f2184dd3e2f2e7a5149890719a0110d70ee\n",
      "32bb2647c136a0c4534d0916d20fef6410578434e240fc32c229b3a4546adc8e\n",
      "9674f443dfa10f1c160cdfa5d68600d2527a49f2ce33b273c531f8255f0f0912\n",
      "d4d13b0d84a4bac196fe565fa0ae2f3c010241c2e9b12a8861b1109526c99ae0\n",
      "a7a513abfe809570d65214bc3b1d209c33bbc8995ac6aa0cf1857c7fca00146d\n",
      "7f95935da71019918b7dbfbaed9bea46a5a21d3e65c31ec4acb505276590ba1d\n",
      "6b2fa0348d21a866ac003a141891fdde2e9be413115035f003585b39347054e5\n",
      "71b42110b05028a873a6ac1315a152c387d84db9749f0689f29007818ea070bb\n",
      "d63327331f55a33008aca1176a28da8b9fd5293ecca42ba866db5b88be99b9dd\n",
      "2083a0d0f92704bdbfbd05540e58802897330c9f0b219c8c58d1e385c78e171f\n",
      "dba386d7bf90844c5119651f8d94f509a955a9a8685606c1102247f127e8e81e\n",
      "84e57756b9e22289251b007ffc0da41739d234f0c02e253865141c8d3b25a36a\n",
      "256b168f2834b7310fc28bc95c5008e0a8ec10428b67eb428efefdc0bdd11064\n",
      "24c41d80c0b09dcc73d288235763e649ac873c2e3a4e9b8052e8cbaf787f03a4\n",
      "3405341985f1d1be449cd4054670be38c2437dccf64dda189d946d84a6f63ea9\n",
      "04802c15e41ac69fc6ef15ccbd688ee8ce85bf423dd8b8a62bc79ee11280a28d\n",
      "f91af3be14392562e734edc356b1b66e8636db1bf0d25a0cee502fdb7d242a08\n",
      "6830e920a2d7bc98967f58d0d5ea9b72936a69dd0cfdf29f776d0559e205e188\n",
      "8d02f9fa5c5280d761be7cd2b8a4f0f51e15d3b299fe4c9818a0f802cd945920\n",
      "927a5c6e17c98fb3bfedbb664f0aa36955eea2e67272df2fbe4fa4e12f77c8b8\n",
      "f9a7e81238e06cd4bbc81ff0b64d7c7e1a0e45e7c459cdb614cde67957bc564c\n",
      "49e193b6d726abe78910da52b81fffa803b59eb65610b0dbe2f6c0cd920f50b7\n",
      "d301f23be2e9195b3e75595af338c81175e61724b70e8d5d53f7fb83a76752f6\n",
      "f1659c422b256eafd9ab954eb94cb18920d1c777d8ebe92ebd92d28607887c6c\n",
      "1c0dcec8a2e3b3b3879c7c1e28a5f1a389164cd1c1627fad113de00b0ecc04c2\n",
      "55c6131875b9ccace0dfc69e11f808d4e4ebe633ba5ca3f316db70fca70efd37\n",
      "e7cc56fc6bcc3ff13be4d790be8d786ed62d3e95e9c293e26111a7a8a9d8e9bf\n",
      "172d22d3cf48aa211955c0c7c090b16f7d4d49d0eb83baa8620c654400237aeb\n",
      "fedc230dfd2071d4e17c7cea668e07d566349b37d8489914993fbfb8976e15df\n",
      "db8a739ba79451ebbde0615191b3d9748e3255a6fa41f3862821231c776e526b\n",
      "7f5b242cd14b529e915978cec9b4320eab166fb79580ca0cd23239e975619e69\n",
      "9e39e784c65f93cc79eb8a06425ac876d24ff60f1ebddd0310aeb58185334108\n",
      "8e54501462a215adbe942b13f0f4379e01ef5181e0a3aaade456ec0ee3e146d5\n",
      "8083e8fce980b18e4e254c190309efd20b0aaa655dab8fc6c0468f9042143212\n",
      "4b37e39d1c0fc013a505c4fb2fe3ade6e98a2cd836cf764feecc05dc1b36827f\n",
      "5eb85554d399591499a0a57d84b9f02140d2d6a69fe013b28695bc64d898571c\n",
      "5524082371ec6c1552f1325c7e212133dcad5d92653aa6e97688417108299375\n",
      "a95768a80607f12bf4650a421f757b65fa704597751380fb9986ebd448a3d742\n",
      "7f8b4fd1e7a9670537a5b70aab419c344b8b3d31ea799cdb986e5fad685be9c1\n",
      "2c4164ff521cda80856cdefd2cb9ec50edb4e6b6bcdaded1be792ff140b9e4cb\n",
      "2f5b0f3c49a8155d8396adcfc7c931306b2d53290f297239bb8a3236f7be51f5\n",
      "18095179c4d383ac039f5e7096d43df8374a249e9238e2a7f9988e6e614cb669\n",
      "6d7d14602ef2705f002d41ecd88471c8f801fe24541807abe36d0bbe31b2368f\n",
      "21f9105d5026d691315ce602452f281e56ec4ae8ba78dfd6fb97c2113952d31d\n",
      "622e592b301baafa2ca3861c2329622f8cffc52bc02e02c6c8a918b7d69777d4\n",
      "2ffb208d49265ee1bed3044696d3979ba997c878b604016029f6892a21aacf10\n",
      "9b0fdebad03c62c4d31feb0ea0268e61ae9ddb93a0aa341170811533125c6f48\n",
      "1463a15c958b94d7388cc93fe262ef3aef4e4009a0aaafabd89c2b8f26aceaaf\n",
      "5df1a72bd1a81cb5278653333f7f8424c52934d985431ebe3571152eb259f8a4\n",
      "15ac1f837dccd7b76599d901962bd830ff1b42e2ef02acfaa51c6bf2df3b25ba\n",
      "7e5ac187f66915a63ed848916b2d469653520b08ebd30ba7fac0c93321286dba\n",
      "cbbbaaac00953feb33fb8b214c15ea84f0e7e28bd97a8b14b751d7f023b949fb\n",
      "0f988186ae60c93a5c868279a86404803495d3803025bd889aa5d736a7ed7285\n",
      "933e3aadef41f32009f924ac7984d1a57c094a7f53b14b8e13a38719fa2447f0\n",
      "91121bd6e469ab70fdf8cd9b392f2128b6cbb918af93c389858bb54c19f2428b\n",
      "fca4411bf4ef130ee6eb7209fd530c2c57d31a499b1171d4116a3bfaf9a0e8ea\n",
      "a5016d1f4ced819b25f469da319ba1763ae476cba3115d05db3b21b854f4f6de\n",
      "ec1ec598f9810e4a39a9a703150317035d15fbe567174eb9f8a32eecdf202395\n",
      "47345aaa4e307f9e46ba2c88c91326b171d8daf18391e2f17aa36dd3f7bf95cf\n",
      "ba224db0be8caee0b4b92eb9c50593d74a29a6c2859b20bcd7a13f105f830dfc\n",
      "f28b163ed9a081b989274e70cd3d9de8db3274dbf94928d285bd3d95b0155b2a\n",
      "795e35388fea97d74ad33738f7216ea16bc18f5a0bff3756d59e919714206d01\n",
      "783324adce8a1a3d5c5c6921addceddd119628b881f9ebf7d4d72e91cd46332f\n",
      "b8275a3000b4444b563cf868b2c49afe3322d37b16c16f5083f7e68ff5120db3\n",
      "f0261c525e48b4c1d517f0a8c59c5f75a3b58b3728ce6006a1ba777bfed07fe1\n",
      "54595d060cc08d0bd38ebef78e0ffc95f797a44be90026e5f5652481c63965c2\n",
      "786a182442ca7d4da5caa6e321e34428389b1c2967f00bc9913d4e0fbe3f8d66\n",
      "6a52a5bd8cfcf29370fd955b284e2713376b7156c603b735498957ad14e1c472\n",
      "c81dc2d11bc8eac129baea51131048042d2036d0d294fa78795122064e8a818a\n",
      "59130cea37eb4c9ea6849cb333697aa320595786d5fa2e41ef58200152f44a88\n",
      "ddeb955a603a86ebaf7f530527adc0c37d424c1af36171637852992d36361eb7\n",
      "4fc753d2f43a16dd6f7f097a7d68a9a41c18361878d134f0b2a56997a7cdd920\n",
      "110850be220d750bd2288b1079cc31a51517daef82cc29ab85b76a41f7b4ccfa\n",
      "1b2cd0e31cb19d4f88330866e99104560b1f4fa64e9caad447ec5c4cdbc16a24\n",
      "7db2273c25cbcdf8b8922a98cb81f40406066af03a58f72ef7e0b5bb5660cdeb\n",
      "cd53ffa380e944ee902b5c0a46f73b8aaf2c3bffae1ebdcc7c785d853cd5455f\n",
      "aa9e6865116e78a01f6af8e237b0a439126f91919258525d3ef6672c8616e028\n",
      "edd9d7ee4151f86677be0a16699d0524751268a6e6e409617595e5369694cee4\n",
      "28dcc479bf67ae911c75668fd4b550dabbabdcc55c54a4c3d01731925a69d7b9\n",
      "8ca42d302cda756cca814d55f8f0b62d315d3fd8f50d87f578b7b8cfcb550388\n",
      "e907aea1f4cb1c82b2d14bd22ed18e1bd6b49c366e912dd4630d4e31cc22a6d1\n",
      "6409aa95363b21eda6f5db4faed99c184302c65b0f6a0a948976d29783de1eef\n",
      "b9897ca61c5ca228c15db2307160b14d40b3b7a601ff0fb56a09c4d9c836ea78\n",
      "4919a7957a59709f96b05fa6e16127cac29478875c94cbe84732e1e7a33f4f29\n",
      "3f24e2500c1fdfba37db104f225f4b4438237bebcd498ef0ea1d178da0763f09\n",
      "a146b893d4acd3039bd6586dba5a56ac09a7cfb34a9a8cd5128b48660cd1ef96\n",
      "9849b213b8cdccb3c66d694a4f1091d415d45f93d5b282ec03c6aba4f1b10c81\n",
      "c973cc256e44b611a633a128fcd94825b3b0cf349ff41e1295f7109db29f4328\n",
      "a45ae859e797a0f53094ecfa951f97e11fa50b7ebf6b2462b15c55e8fd220b93\n",
      "d259fad343f5e027b6ed4f62570d184a086660a712d42f0e63af069c4e62be64\n",
      "2403ab9bb8013e5b262595afb7797a3f52568e8252162844c7aae88c74ccc48a\n",
      "bea6fef151d29edbac9f06b6d9c26558cadae15ece9af6a068cc49bffb439ca8\n",
      "e499c76014654612a4ea67c9bef9ec41f89bb064e09249e6d6b065bad355bdd0\n",
      "0b57f36de26f6309e990c3596221f8b1337d7162065ea00f45c896fd1dd89c5f\n",
      "46b09e513e6681bc95f77d3824d4a437a0acb38c4e4deee961a15356fa007d16\n",
      "1829dbd466c02cad1dd4f39b2bbd66b82adaaf7384e0fd1f26fb981608d18080\n",
      "cdd1309d6951bc7f74b27954e6b809cac47d787f751ff8a2246f52398190999a\n",
      "0c621cd5477192dce6710094be38ba6ee65cbab3fec698339fc880f22a9bc426\n",
      "dc4070b755095b38d7895572c299fb8e049eeeec70f0a735bea4b065dd28afdd\n",
      "abfac7cb35c7ea41b664931bed0343b5dc317c6b4ebd10688405c17782de3f1a\n",
      "669d2da26a3b1b458514eb4fb1be34ae3ce62b9ebff2a3c46e0f08963953bedc\n",
      "be26a458ff1131e1112da6e195904abf026bc8e109b5e0867dc508543525f0f3\n",
      "8b947e93238403bfb3302eecbab18f9263078d312d52a119241d46513bda4eaf\n",
      "197fa3b8eb94c445d80e1908222095c1844aa17ce02a55e2417564ae6b786710\n",
      "0d25e61c93211ed40d4a2893445027abea925fcb9ef81fe0a5ac6fba4199ce32\n",
      "513babce36a14088848c09a11aab5e55eb31aea3850229798c689a66fc69f9d4\n",
      "7300337b0b3a6ff7e77ab29cf5ca81ee619cf1ddf96b9733c0d7526ca77bbbc7\n",
      "4a47fa20477d98e43e6c3f4358e48d8a50801865a8c4be913a6ff7d9bae08de4\n",
      "786349d7e413af1e4aa0296b7e6fe0fd3f47fee93a9557cc3fff44259c8c5a29\n",
      "ffe163cf7f316082a405060513bd914e767bfaa69b2c154c9b542dd27e73b95b\n",
      "29a7cdb2cc4a8f23ee3c17822289c4e7983249fb45455ecda93ead5ef20bf4a5\n",
      "921f035e06143f6bacb8cc40b6d5a9ca1dd7c7445bfd239f473d130188e5f930\n",
      "d78c762c274ef955afd9aa0d5625c89f77adb87c4e395a71af2b1f174aeb6744\n",
      "40de5c1aa046ff4d3bd381d8502299e0ca81bbb72ed8980eda63d944feef2f94\n",
      "c5865990354c867f1da0bed64084540a8cf00b50637cb18effd103dc7d943647\n",
      "c20c520e8258609c7556726b7c1e796845f14298b2314b8d45b8368dbdf4f4d7\n",
      "542feb8c14e0994b3557f298495e71fd08d73d1fa0765193c5c97394fbfbd15b\n",
      "c58145b8a68e7d2227a18d26e7735be79937214b8d21c8feebf81d906e324b76\n",
      "6774038c55f391cb21ac23ff6ea3f891feffec824f09beb5c8bf467e63aa1155\n",
      "0bd07a2cad3f1e59a0650ea4d5ae8bc3d3ed307f1c497e5ae24e0f67b1574dfd\n",
      "247371c455c547de428dff6c1d89c8992b3dc7a7e41372dd6939ae2eae7ddc99\n",
      "c1e96ddfe065bdf447042891fb464c702dc51cef3d226b85b1c667bc8a39611b\n",
      "1538e567305254770208443d6a111aa1df8a65c5409e5765fc3dbe3317e85c76\n",
      "b5e7e28fa7d050adf226993bbe848b4b1701de49eba5bb3cad1ee836c7d955dd\n",
      "2cd3537701325eba027c44e98498dc82a820dd1bf7dc4aa6ee1b642a5983f465\n",
      "811310343056dc59e37bdcef8844578e3cbe491113b9b38553f166b62d74f380\n",
      "701f840e68965f2cbb0d52b29b5f2fb01c21625bb7490142fffa2e1e7a237a98\n",
      "e97112ebd368f54b44ec81d120a5495c4436b12ab170a8381f279c95115fcc75\n",
      "b49176c4b53cadecd10578aa03706e2e44c06b862e080e3ceb0b1c8f97038671\n",
      "895c152e252d438e74513e820cface6483ac9ba3a9126fac3d74f70bd2177e3d\n",
      "67e5bdbfd355644d360b881adaa52d704ad62b5f99e6018ed3d9df370312277d\n",
      "f98606498fe47b45c70febed599d94e98a1c1ff90bd22b40df610346cf2d522f\n",
      "ead0d880cb350d9685870d95f3a4b9aed33f130c3086c9e6c4b3697383a5e626\n",
      "121f924072e66af0c8743957e2fd508f3b51b5cd13af04dc2e27d6360aa57a82\n",
      "e858a85bc81fc511c466c463c96286ad6bf7f4c4a49fbd8644eacdafda1c82eb\n",
      "201dc20d841fb543c43b18aac4c76adaa488249b82546eee6203993e45972358\n",
      "68867b26d8ebb950bf55de78b835234df7aff408a699db8d13763311a8a47b3d\n",
      "96c1a12063ba6921a4c9c7380efa298861837fd7cd71e4be37f59f33a19a3a0d\n",
      "6489e355a962a3e7b688a63c0fb28ce4b488469779b30415000b9787ef6b2096\n",
      "6fb13c734677ea774d9333f5c5d9a48a41072fbb052a9a12e972c478c6b5a7d6\n",
      "b99c7591dba61ce5121f6f79dbfd967f8fe35069d8b311be8b8067900dda260b\n",
      "9068f12618a4bb805c9dc7d3288c94978550aaaf2c46020233e46bd54f26bc91\n",
      "356ff393d041a850047630e232cb7d321c0496f48462de0d54db76903f116617\n",
      "85218f170cc11c347a2c35d114940f4f6e4ce53685d5d19aff8182a0cb335e3c\n",
      "2a9fab1811b9f7be898dc768954ba73507ac9cec049f9d5675cfc6e9a5dbb4d6\n",
      "ee621fd647edcbd02cfe60399f40b2f5d0b6b5491f27ef98f736604457230df7\n",
      "c1a2213102f014b2473e1accbfef8ae905d77ad69b86ed51627d77e71f52ba49\n",
      "c2bbb14386cdd852159b0f650886483f719aadd139fe71b0ef7f74bf580e4c23\n",
      "00000f7566635b3498cbc8f49f62c46c1cf35dbaa0d516c572f8112fbbcfdc32\n",
      "The nonce is:  485\n"
     ]
    }
   ],
   "source": [
    "nonce = 0\n",
    "while not target(tx):\n",
    "    nonce += 1\n",
    "print(\"The nonce is: \", nonce)"
   ]
  },
  {
   "cell_type": "code",
   "execution_count": null,
   "metadata": {},
   "outputs": [],
   "source": []
  }
 ],
 "metadata": {
  "kernelspec": {
   "display_name": "Python 3",
   "language": "python",
   "name": "python3"
  },
  "language_info": {
   "codemirror_mode": {
    "name": "ipython",
    "version": 3
   },
   "file_extension": ".py",
   "mimetype": "text/x-python",
   "name": "python",
   "nbconvert_exporter": "python",
   "pygments_lexer": "ipython3",
   "version": "3.7.4"
  }
 },
 "nbformat": 4,
 "nbformat_minor": 5
}
